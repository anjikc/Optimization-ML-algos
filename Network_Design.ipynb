{
 "cells": [
  {
   "cell_type": "markdown",
   "metadata": {},
   "source": [
    "# Problem Statement "
   ]
  },
  {
   "cell_type": "markdown",
   "metadata": {},
   "source": [
    "There are six end customers, each with a known demand for a product.  Customer demand can be satisfied from a set of four depots, or directly from a set of two factories.  Each depot can support a **maximum volume of product** moving through it, and each factory can produce a **maximum amount of product**.  There are known costs associated with transporting the product, from a factory to a depot, from a depot to a customer, or from a factory directly to a customer.\n",
    "\n",
    "The supply network has two factories, in Liverpool and Brighton, that produce a product.  Each has a **maximum production capacity** as follows:\n",
    "\n",
    "|Factory | Supply (tons) |\n",
    "| --- | --- |\n",
    "| Liverpool | 130,000 |\n",
    "| Brighton |  220,000 |\n",
    "\n",
    "The product can be shipped from a factory to a set of four depots.  Each depot has a **maximum throughput**.  Depots don't produce or consume the product; they simply pass the product on to customers.\n",
    "\n",
    "| Depot | Throughput (tons) |\n",
    "| --- | --- |\n",
    "| Newcastle | 70,000 |\n",
    "| Birmingham | 60,000 |\n",
    "| London | 90,000 |\n",
    "| Exeter | 40,000 |\n",
    "\n",
    "The network has six customers, each with a given demand.\n",
    "\n",
    "| Customer | Demand (tons) |\n",
    "| --- | --- |\n",
    "| C1 | 50,000 |\n",
    "| C2 | 15,000 |\n",
    "| C3 | 40,000 |\n",
    "| C4 | 50,000 |\n",
    "| C5 | 60,000 |\n",
    "| C6 | 20,000 |\n",
    "\n",
    "Shipping costs are given in the following table (in dollars per ton).  Columns are source cities and rows are destination cities.  Thus, for example, it costs $1 per ton to ship the product from Liverpool to London.  A '-' in the table indicates that that combination is not possible, so for example it is not possible to ship from the factory in Brighton to the depot in Newcastle.\n",
    "\n",
    "| To | Liverpool | Brighton | Newcastle | Birmingham | London | Exeter |\n",
    "| --- | --- | --- | --- | --- | --- | --- |\n",
    "| Depots |\n",
    "| Newcastle  | 0.5 |   - |\n",
    "| Birmingham | 0.5 | 0.3 |\n",
    "| London     | 1.0 | 0.5 |\n",
    "| Exeter     | 0.5 | 0.2 |\n",
    "| Customers |\n",
    "| C1 | 1.0 | 2.0 |   - | 1.0 |   - |   - |\n",
    "| C2 |   - |   - | 1.5 | 0.5 | 1.5 |   - |\n",
    "| C3 | 1.5 |   - | 0.5 | 0.5 | 2.0 | 0.2 |\n",
    "| C4 | 4.0 |   - | 1.5 | 1.0 |   - | 1.5 |\n",
    "| C5 |   - |   - |   - | 0.5 | 0.5 | 0.5 |\n",
    "| C6 | 1.0 |   - | 1.0 |   - | 1.5 | 1.5 |\n",
    "\n",
    "The question to be answered is how to satisfy the demands of the end customers while minimizing shipping costs."
   ]
  },
  {
   "cell_type": "markdown",
   "metadata": {},
   "source": [
    "## Model Formulation"
   ]
  },
  {
   "cell_type": "markdown",
   "metadata": {},
   "source": [
    "### Sets and Indices"
   ]
  },
  {
   "cell_type": "markdown",
   "metadata": {},
   "source": [
    "$f \\in \\text{Factories}=\\{\\text{Liverpool}, \\text{Brighton}\\}$\n",
    "\n",
    "$d \\in \\text{Depots}=\\{\\text{Newcastle}, \\text{Birmingham}, \\text{London}, \\text{Exeter}\\}$\n",
    "\n",
    "$c \\in \\text{Customers}=\\{\\text{C1}, \\text{C2}, \\text{C3}, \\text{C4}, \\text{C5}, \\text{C6}\\}$\n",
    "\n",
    "$\\text{Cities} = \\text{Factories} \\cup \\text{Depots} \\cup \\text{Customers}$"
   ]
  },
  {
   "cell_type": "markdown",
   "metadata": {},
   "source": [
    "### Parameters "
   ]
  },
  {
   "cell_type": "markdown",
   "metadata": {},
   "source": [
    "$\\text{cost}_{s,t} \\in \\mathbb{R}^+$: Cost of shipping one ton from source $s$ to destination $t$.\n",
    "\n",
    "$\\text{supply}_f \\in \\mathbb{R}^+$: Maximum possible supply from factory $f$ (in tons).\n",
    "\n",
    "$\\text{through}_d \\in \\mathbb{R}^+$: Maximum possible flow through depot $d$ (in tons).\n",
    "\n",
    "$\\text{demand}_c \\in \\mathbb{R}^+$: Demand for goods at customer $c$ (in tons).\n"
   ]
  },
  {
   "cell_type": "markdown",
   "metadata": {},
   "source": [
    "### Decision Variables"
   ]
  },
  {
   "cell_type": "markdown",
   "metadata": {},
   "source": [
    "$\\text{flow}_{s,t} \\in \\mathbb{N}^+$: Quantity of goods (in tons) that is shipped from source $s$ to destionation $t$."
   ]
  },
  {
   "cell_type": "markdown",
   "metadata": {},
   "source": [
    "### Objective Function "
   ]
  },
  {
   "cell_type": "markdown",
   "metadata": {},
   "source": [
    "- **Cost**: Minimize total shipping costs."
   ]
  },
  {
   "cell_type": "markdown",
   "metadata": {},
   "source": [
    "\\begin{equation}\n",
    "\\text{Minimize} \\quad Z = \\sum_{(s,t) \\in \\text{Cities} \\times \\text{Cities}}{\\text{cost}_{s,t}*\\text{flow}_{s,t}}\n",
    "\\end{equation}\n"
   ]
  },
  {
   "cell_type": "markdown",
   "metadata": {},
   "source": [
    "### Constraints "
   ]
  },
  {
   "cell_type": "markdown",
   "metadata": {},
   "source": [
    "- **Factory output**: Flow of goods from a factory must respect maximum capacity."
   ]
  },
  {
   "cell_type": "markdown",
   "metadata": {},
   "source": [
    "\\begin{equation}\n",
    "\\sum_{t \\in \\text{Cities}}{\\text{flow}_{f,t}} \\leq \\text{supply}_{f} \\quad \\forall f \\in \\text{Factories}\n",
    "\\end{equation}"
   ]
  },
  {
   "cell_type": "markdown",
   "metadata": {},
   "source": [
    "- **Customer demand**: Flow of goods must meet customer demand."
   ]
  },
  {
   "cell_type": "markdown",
   "metadata": {},
   "source": [
    "\\begin{equation}\n",
    "\\sum_{s \\in \\text{Cities}}{\\text{flow}_{s,c}} = \\text{demand}_{c} \\quad \\forall c \\in \\text{Customers}\n",
    "\\end{equation}"
   ]
  },
  {
   "cell_type": "markdown",
   "metadata": {},
   "source": [
    "- **Depot flow**: Flow into a depot equals flow out of the depot."
   ]
  },
  {
   "cell_type": "markdown",
   "metadata": {},
   "source": [
    "\\begin{equation}\n",
    "\\sum_{s \\in \\text{Cities}}{\\text{flow}_{s,d}} = \\sum_{t \\in \\text{Cities}}{\\text{flow}_{d,t}}\n",
    "\\quad \\forall d \\in \\text{Depots}\n",
    "\\end{equation}"
   ]
  },
  {
   "cell_type": "markdown",
   "metadata": {},
   "source": [
    "\n",
    "- **Depot capacity**: Flow into a depot must respect depot capacity."
   ]
  },
  {
   "cell_type": "markdown",
   "metadata": {},
   "source": [
    "\\begin{equation}\n",
    "\\sum_{s \\in \\text{Cities}}{\\text{flow}_{s,d}} \\leq \\text{through}_{d}\n",
    "\\quad \\forall d \\in \\text{Depots}\n",
    "\\end{equation}\n"
   ]
  },
  {
   "cell_type": "markdown",
   "metadata": {},
   "source": [
    "## Python "
   ]
  },
  {
   "cell_type": "code",
   "execution_count": 6,
   "metadata": {},
   "outputs": [],
   "source": [
    "## inputing libraries \n",
    "import numpy as np\n",
    "import pandas as pd \n",
    "import gurobipy as gp\n",
    "from gurobipy import GRB \n"
   ]
  },
  {
   "cell_type": "code",
   "execution_count": 61,
   "metadata": {},
   "outputs": [],
   "source": [
    "# Creating dictionaries to store the supply, throughput and customer demand limits\n",
    "supply= dict({'Liverpool': 130000,'Brighton':220000})\n",
    "thpt=dict({'Newcastle':70000,'Birmingham':60000,'London':90000,'Exeter':40000})\n",
    "demand=dict({'C1':50000,'C2':15000,'C3':40000,'C4':50000,'C5':60000,'C6':20000})"
   ]
  },
  {
   "cell_type": "code",
   "execution_count": 62,
   "metadata": {},
   "outputs": [],
   "source": [
    "# Creating dictionary to capture shipping costs over different arcs between the nodes\n",
    "arcs, cost = gp.multidict({\n",
    "    ('Liverpool', 'Newcastle'): 0.5,\n",
    "    ('Liverpool', 'Birmingham'): 0.5,\n",
    "    ('Liverpool', 'London'): 1.0,\n",
    "    ('Liverpool', 'Exeter'): 0.5,\n",
    "    ('Liverpool', 'C1'): 1.0,\n",
    "    ('Liverpool', 'C3'): 1.5,\n",
    "    ('Liverpool', 'C4'): 4.0,\n",
    "    ('Liverpool', 'C6'): 1.0,\n",
    "    ('Brighton', 'Birmingham'): 0.3,\n",
    "    ('Brighton', 'London'): 0.5,\n",
    "    ('Brighton', 'Exeter'): 0.2,\n",
    "    ('Brighton', 'C1'): 2.0,\n",
    "    ('Newcastle', 'C2'): 1.5,\n",
    "    ('Newcastle', 'C3'): 0.5,\n",
    "    ('Newcastle', 'C5'): 1.5,\n",
    "    ('Newcastle', 'C6'): 1.0,\n",
    "    ('Birmingham', 'C1'): 1.0,\n",
    "    ('Birmingham', 'C2'): 0.5,\n",
    "    ('Birmingham', 'C3'): 0.5,\n",
    "    ('Birmingham', 'C4'): 1.0,\n",
    "    ('Birmingham', 'C5'): 0.5,\n",
    "    ('London', 'C2'): 1.5,\n",
    "    ('London', 'C3'): 2.0,\n",
    "    ('London', 'C5'): 0.5,\n",
    "    ('London', 'C6'): 1.5,\n",
    "    ('Exeter', 'C3'): 0.2,\n",
    "    ('Exeter', 'C4'): 1.5,\n",
    "    ('Exeter', 'C5'): 0.5,\n",
    "    ('Exeter', 'C6'): 1.5\n",
    "})"
   ]
  },
  {
   "cell_type": "markdown",
   "metadata": {},
   "source": [
    "## Model"
   ]
  },
  {
   "cell_type": "markdown",
   "metadata": {},
   "source": [
    "A model and variables are defined.The variables capture flow of materials between source and destination along an arc. While defining the varibles itself objective coeffecients (cost) are used so that there is no need of providing an optimization objective later."
   ]
  },
  {
   "cell_type": "code",
   "execution_count": 63,
   "metadata": {},
   "outputs": [],
   "source": [
    "model= gp.Model('Network Optimization')\n",
    "flow=model.addVars(arcs,obj=cost,name='flow')"
   ]
  },
  {
   "cell_type": "code",
   "execution_count": 64,
   "metadata": {},
   "outputs": [],
   "source": [
    "## Addressing the constraint due to supply capacity of factories \n",
    "factories= supply.keys()\n",
    "factory_flow=model.addConstrs((gp.quicksum(flow.select(factory,'*'))<=supply[factory]\n",
    "                               for factory in factories),name='factory')"
   ]
  },
  {
   "cell_type": "code",
   "execution_count": 65,
   "metadata": {},
   "outputs": [],
   "source": [
    "## Addressing constraint to satisfy customer demands\n",
    "customers=demand.keys()\n",
    "customer_flow=model.addConstrs((gp.quicksum(flow.select('*',customer))==demand[customer]\n",
    "                               for customer in customers),name='customer')"
   ]
  },
  {
   "cell_type": "code",
   "execution_count": 66,
   "metadata": {},
   "outputs": [],
   "source": [
    "## Constraint to address flow conservation through depots\n",
    "depots=thpt.keys()\n",
    "depot_flow=model.addConstrs((gp.quicksum(flow.select('*',depot))==gp.quicksum(flow.select(depot,'*'))\n",
    "                               for depot in depots),name='depot')"
   ]
  },
  {
   "cell_type": "code",
   "execution_count": 67,
   "metadata": {},
   "outputs": [],
   "source": [
    "## Constraint to address depot throught inflow limit \n",
    "depot_capacity=model.addConstrs((gp.quicksum(flow.select('*',depot))<=thpt[depot]\n",
    "                                 for depot in depots),name='depot_capacity')"
   ]
  },
  {
   "cell_type": "code",
   "execution_count": 68,
   "metadata": {},
   "outputs": [
    {
     "name": "stdout",
     "output_type": "stream",
     "text": [
      "Gurobi Optimizer version 9.0.2 build v9.0.2rc0 (win64)\n",
      "Optimize a model with 16 rows, 29 columns and 65 nonzeros\n",
      "Model fingerprint: 0x9a229d28\n",
      "Coefficient statistics:\n",
      "  Matrix range     [1e+00, 1e+00]\n",
      "  Objective range  [2e-01, 4e+00]\n",
      "  Bounds range     [0e+00, 0e+00]\n",
      "  RHS range        [2e+04, 2e+05]\n",
      "Presolve removed 1 rows and 0 columns\n",
      "Presolve time: 0.01s\n",
      "Presolved: 15 rows, 29 columns, 64 nonzeros\n",
      "\n",
      "Iteration    Objective       Primal Inf.    Dual Inf.      Time\n",
      "       0    1.6550000e+05   2.062500e+04   0.000000e+00      0s\n",
      "      11    2.2800000e+05   0.000000e+00   0.000000e+00      0s\n",
      "\n",
      "Solved in 11 iterations and 0.01 seconds\n",
      "Optimal objective  2.280000000e+05\n"
     ]
    }
   ],
   "source": [
    "## Model Optimization \n",
    "model.optimize()"
   ]
  },
  {
   "cell_type": "markdown",
   "metadata": {},
   "source": [
    "**Optimal total cost is** \\$  228,000. The optimal flows are as follows:"
   ]
  },
  {
   "cell_type": "code",
   "execution_count": 81,
   "metadata": {},
   "outputs": [],
   "source": [
    "network_flow=pd.DataFrame(columns=['From','To','Flow'])"
   ]
  },
  {
   "cell_type": "code",
   "execution_count": 82,
   "metadata": {},
   "outputs": [
    {
     "data": {
      "text/html": [
       "<div>\n",
       "<style scoped>\n",
       "    .dataframe tbody tr th:only-of-type {\n",
       "        vertical-align: middle;\n",
       "    }\n",
       "\n",
       "    .dataframe tbody tr th {\n",
       "        vertical-align: top;\n",
       "    }\n",
       "\n",
       "    .dataframe thead th {\n",
       "        text-align: right;\n",
       "    }\n",
       "</style>\n",
       "<table border=\"1\" class=\"dataframe\">\n",
       "  <thead>\n",
       "    <tr style=\"text-align: right;\">\n",
       "      <th></th>\n",
       "      <th>From</th>\n",
       "      <th>To</th>\n",
       "      <th>Flow</th>\n",
       "    </tr>\n",
       "  </thead>\n",
       "  <tbody>\n",
       "    <tr>\n",
       "      <th></th>\n",
       "      <td>Liverpool</td>\n",
       "      <td>Newcastle</td>\n",
       "      <td>5000.0</td>\n",
       "    </tr>\n",
       "    <tr>\n",
       "      <th></th>\n",
       "      <td>Liverpool</td>\n",
       "      <td>C1</td>\n",
       "      <td>50000.0</td>\n",
       "    </tr>\n",
       "    <tr>\n",
       "      <th></th>\n",
       "      <td>Liverpool</td>\n",
       "      <td>C6</td>\n",
       "      <td>20000.0</td>\n",
       "    </tr>\n",
       "    <tr>\n",
       "      <th></th>\n",
       "      <td>Brighton</td>\n",
       "      <td>Birmingham</td>\n",
       "      <td>60000.0</td>\n",
       "    </tr>\n",
       "    <tr>\n",
       "      <th></th>\n",
       "      <td>Brighton</td>\n",
       "      <td>London</td>\n",
       "      <td>60000.0</td>\n",
       "    </tr>\n",
       "    <tr>\n",
       "      <th></th>\n",
       "      <td>Brighton</td>\n",
       "      <td>Exeter</td>\n",
       "      <td>40000.0</td>\n",
       "    </tr>\n",
       "    <tr>\n",
       "      <th></th>\n",
       "      <td>Newcastle</td>\n",
       "      <td>C3</td>\n",
       "      <td>5000.0</td>\n",
       "    </tr>\n",
       "    <tr>\n",
       "      <th></th>\n",
       "      <td>Birmingham</td>\n",
       "      <td>C2</td>\n",
       "      <td>15000.0</td>\n",
       "    </tr>\n",
       "    <tr>\n",
       "      <th></th>\n",
       "      <td>Birmingham</td>\n",
       "      <td>C4</td>\n",
       "      <td>45000.0</td>\n",
       "    </tr>\n",
       "    <tr>\n",
       "      <th></th>\n",
       "      <td>London</td>\n",
       "      <td>C5</td>\n",
       "      <td>60000.0</td>\n",
       "    </tr>\n",
       "    <tr>\n",
       "      <th></th>\n",
       "      <td>Exeter</td>\n",
       "      <td>C3</td>\n",
       "      <td>35000.0</td>\n",
       "    </tr>\n",
       "    <tr>\n",
       "      <th></th>\n",
       "      <td>Exeter</td>\n",
       "      <td>C4</td>\n",
       "      <td>5000.0</td>\n",
       "    </tr>\n",
       "  </tbody>\n",
       "</table>\n",
       "</div>"
      ],
      "text/plain": [
       "        From          To     Flow\n",
       "   Liverpool   Newcastle   5000.0\n",
       "   Liverpool          C1  50000.0\n",
       "   Liverpool          C6  20000.0\n",
       "    Brighton  Birmingham  60000.0\n",
       "    Brighton      London  60000.0\n",
       "    Brighton      Exeter  40000.0\n",
       "   Newcastle          C3   5000.0\n",
       "  Birmingham          C2  15000.0\n",
       "  Birmingham          C4  45000.0\n",
       "      London          C5  60000.0\n",
       "      Exeter          C3  35000.0\n",
       "      Exeter          C4   5000.0"
      ]
     },
     "execution_count": 82,
     "metadata": {},
     "output_type": "execute_result"
    }
   ],
   "source": [
    "\n",
    "for arc in arcs:\n",
    "    if flow[arc].x > 1e-6:\n",
    "        network_flow = network_flow.append({\"From\": arc[0], \"To\": arc[1], \"Flow\": flow[arc].x}, ignore_index=True)  \n",
    "\n",
    "        network_flow.index=['']* len(network_flow)\n",
    "network_flow"
   ]
  },
  {
   "cell_type": "markdown",
   "metadata": {},
   "source": [
    "# Modification to the problem statement "
   ]
  },
  {
   "cell_type": "markdown",
   "metadata": {},
   "source": [
    "Two more depot options are present:\n",
    "\n",
    "| Depot | Throughput (tons) |\n",
    "| --- | --- |\n",
    "| Newcastle | 70,000 |\n",
    "| Birmingham | 60,000 |\n",
    "| London | 90,000 |\n",
    "| Exeter | 40,000 |\n",
    "| Bristol | 40,000 |\n",
    "| Northampton | 20,000 |"
   ]
  },
  {
   "cell_type": "markdown",
   "metadata": {},
   "source": [
    "Only 4 of the six depots can be open and there is a corresponding opening cost. London and Birmingham don't have choices they have to always open\n",
    "\n",
    "| Depot | Cost to open |\n",
    "| --- | --- |\n",
    "| Newcastle | 10,000 |\n",
    "| Exeter | 5,000 |\n",
    "| Bristol | 12,000 |\n",
    "| Northampton | 4,000 |\n"
   ]
  },
  {
   "cell_type": "markdown",
   "metadata": {},
   "source": [
    "We also have the option of expanding the capacity at Birmingham by 20,000 tons, for a cost of \\$3000."
   ]
  },
  {
   "cell_type": "markdown",
   "metadata": {},
   "source": [
    "New table for shipping costs are as follows:\n",
    "    \n",
    "| To | Liverpool | Brighton | Newcastle | Birmingham | London | Exeter | Briston | Northhampton\n",
    "| --- | --- | --- | --- | --- | --- | --- | --- | --- |\n",
    "| Depots |\n",
    "| Newcastle   | 0.5 |   - |\n",
    "| Birmingham  | 0.5 | 0.3 |\n",
    "| London      | 1.0 | 0.5 |\n",
    "| Exeter      | 0.5 | 0.2 |\n",
    "| Bristol     | 0.6 | 0.4 |\n",
    "| Northampton | 0.4 | 0.3 |\n",
    "| Customers |\n",
    "| C1 | 1.0 | 2.0 |   - | 1.0 |   - |   - | 1.2 |   - |\n",
    "| C2 |   - |   - | 1.5 | 0.5 | 1.5 |   - | 0.6 | 0.4 |\n",
    "| C3 | 1.5 |   - | 0.5 | 0.5 | 2.0 | 0.2 | 0.5 |   - |\n",
    "| C4 | 4.0 |   - | 1.5 | 1.0 |   - | 1.5 |   - | 0.5 |\n",
    "| C5 |   - |   - |   - | 0.5 | 0.5 | 0.5 | 0.3 | 0.6 |\n",
    "| C6 | 1.0 |   - | 1.0 |   - | 1.5 | 1.5 | 0.8 | 0.9 |\n",
    "    "
   ]
  },
  {
   "cell_type": "markdown",
   "metadata": {},
   "source": [
    "## New Model"
   ]
  },
  {
   "cell_type": "markdown",
   "metadata": {},
   "source": [
    "## Sets and indices"
   ]
  },
  {
   "cell_type": "markdown",
   "metadata": {},
   "source": [
    "$f \\in \\text{Factories}=\\{\\text{Liverpool}, \\text{Brighton}\\}$\n",
    "\n",
    "$d \\in \\text{Depots}=\\{\\text{Newcastle}, \\text{Birmingham}, \\text{London}, \\text{Exeter}, \\text{Bristol}, \\text{Northampton}\\}$\n",
    "\n",
    "$c \\in \\text{Customers}=\\{\\text{C1}, \\text{C2}, \\text{C3}, \\text{C4}, \\text{C5}, \\text{C6}\\}$\n",
    "\n",
    "$\\text{Cities} = \\text{Factories} \\cup \\text{Depots} \\cup \\text{Customers}$"
   ]
  },
  {
   "cell_type": "markdown",
   "metadata": {},
   "source": [
    "## Parameters "
   ]
  },
  {
   "cell_type": "markdown",
   "metadata": {},
   "source": [
    "$\\text{cost}_{s,t} \\in \\mathbb{R}^+$: Cost of shipping one ton from source $s$ to destination $t$.\n",
    "\n",
    "$\\text{supply}_f \\in \\mathbb{R}^+$: Maximum possible supply from factory $f$ (in tons).\n",
    "\n",
    "$\\text{through}_d \\in \\mathbb{R}^+$: Maximum possible flow through depot $d$ (in tons).\n",
    "\n",
    "$\\text{demand}_c \\in \\mathbb{R}^+$: Demand for goods at customer $c$ (in tons).\n",
    "\n",
    "$\\text{opencost}_d \\in \\mathbb{R}^+$: Cost of opening depot $d$ (in dollars)."
   ]
  },
  {
   "cell_type": "markdown",
   "metadata": {},
   "source": [
    "## Decision Variables "
   ]
  },
  {
   "cell_type": "markdown",
   "metadata": {},
   "source": [
    "$\\text{flow}_{s,t} \\in \\mathbb{N}^+$: Quantity of goods (in tons) that is shipped from source $s$ to destionation $t$.\n",
    "\n",
    "$\\text{open}_{d} \\in [0,1]$: Is it benefecial to keep depot $d$ open?\n",
    "\n",
    "$\\text{expand} \\in [0,1]$: Is it benefecial for Birmingham to be expanded?\n"
   ]
  },
  {
   "cell_type": "markdown",
   "metadata": {},
   "source": [
    "## Objective Function "
   ]
  },
  {
   "cell_type": "markdown",
   "metadata": {},
   "source": [
    "\n",
    "- **Cost**: Minimize total shipping costs plus costs of opening depots.\n",
    "\n",
    "\\begin{equation}\n",
    "\\text{Minimize} \\quad Z = \\sum_{(s,t) \\in \\text{Cities} \\times \\text{Cities}}{\\text{cost}_{s,t}*\\text{flow}_{s,t}} +\n",
    "                          \\sum_{{d} \\in \\text{Depots}}{\\text{opencost}_d*\\text{open}_d} +\n",
    "                          3000 * \\text{expand}\n",
    "\\end{equation}"
   ]
  },
  {
   "cell_type": "markdown",
   "metadata": {},
   "source": [
    "## Constraints "
   ]
  },
  {
   "cell_type": "markdown",
   "metadata": {},
   "source": [
    "- **Factory output**: Flow of goods from a factory must respect maximum capacity.\n",
    "\n",
    "\\begin{equation}\n",
    "\\sum_{t \\in \\text{Cities}}{\\text{flow}_{f,t}} \\leq \\text{supply}_{f} \\quad \\forall f \\in \\text{Factories}\n",
    "\\end{equation}\n"
   ]
  },
  {
   "cell_type": "markdown",
   "metadata": {},
   "source": [
    "- **Customer demand**: Flow of goods must meet customer demand.\n",
    "\n",
    "\\begin{equation}\n",
    "\\sum_{s \\in \\text{Cities}}{\\text{flow}_{s,c}} = \\text{demand}_{c} \\quad \\forall c \\in \\text{Customers}\n",
    "\\end{equation}"
   ]
  },
  {
   "cell_type": "markdown",
   "metadata": {},
   "source": [
    "- **Depot flow**: Flow into a depot equals flow out of the depot.\n",
    "\n",
    "\\begin{equation}\n",
    "\\sum_{s \\in \\text{Cities}}{\\text{flow}_{s,d}} = \n",
    "\\sum_{t \\in \\text{Cities}}{\\text{flow}_{d,t}}\n",
    "\\quad \\forall d \\in \\text{Depots}\n",
    "\\end{equation}"
   ]
  },
  {
   "cell_type": "markdown",
   "metadata": {},
   "source": [
    "- **Depot capacity (except Birmingham)**: Flow into a depot must respect depot capacity, and is only allowed if the depot is open.\n",
    "\n",
    "\\begin{equation}\n",
    "\\sum_{s \\in \\text{Cities}}{\\text{flow}_{s,d}} \\leq \\text{through}_{d} * \\text{open}_{d}\n",
    "\\quad \\forall d \\in \\text{Depots} - \\text{Birmingham}\n",
    "\\end{equation}\n"
   ]
  },
  {
   "cell_type": "markdown",
   "metadata": {},
   "source": [
    "- **Depot capacity (Birmingham)**: Flow into Birmingham must respect depot capacity, which may have been expanded.\n",
    "\n",
    "\\begin{equation}\n",
    "\\sum_{s \\in \\text{Cities}} \\text{flow}_{s,\\text{Birmingham}} \\leq \\text{through}_{\\text{Birmingham}} + 20000 * \\text{expand}\n",
    "\\end{equation}"
   ]
  },
  {
   "cell_type": "markdown",
   "metadata": {},
   "source": [
    "- **Open depots**: At most 4 open depots (no choice for Birmingham or London).\n",
    "\n",
    "\\begin{equation}\n",
    "\\sum_{d \\in \\text{Depots}}{\\text{open}_{d}} \\leq 4\n",
    "\\end{equation}\n",
    "\n",
    "\\begin{equation}\n",
    "\\text{open}_{\\text{Birmingham}} = \\text{open}_{\\text{London}} = 1\n",
    "\\end{equation}\n"
   ]
  },
  {
   "cell_type": "code",
   "execution_count": 93,
   "metadata": {},
   "outputs": [],
   "source": [
    "## new dictionary to store the modified throughput limits\n",
    "thpt1=dict({'Newcastle':70000,'Birmingham':60000,'London':90000,'Exeter':40000,'Bristol':40000,'Northampton':20000})\n",
    "opencost=dict({'Newcastle': 10000,\n",
    "                 'Birmingham': 0,\n",
    "                 'London': 0,\n",
    "                 'Exeter': 5000,\n",
    "                 'Bristol': 12000,\n",
    "                 'Northampton': 4000})\n",
    "arcs1,cost1=gp.multidict({\n",
    "    ('Liverpool', 'Newcastle'): 0.5,\n",
    "    ('Liverpool', 'Birmingham'): 0.5,\n",
    "    ('Liverpool', 'London'): 1.0,\n",
    "    ('Liverpool', 'Exeter'): 0.5,\n",
    "    ('Liverpool', 'Bristol'): 0.6,\n",
    "    ('Liverpool', 'Northampton'): 0.4,\n",
    "    ('Liverpool', 'C1'): 1.0,\n",
    "    ('Liverpool', 'C3'): 1.5,\n",
    "    ('Liverpool', 'C4'): 4.0,\n",
    "    ('Liverpool', 'C6'): 1.0,\n",
    "    ('Brighton', 'Birmingham'): 0.3,\n",
    "    ('Brighton', 'London'): 0.5,\n",
    "    ('Brighton', 'Exeter'): 0.2,\n",
    "    ('Brighton', 'Bristol'): 0.4,\n",
    "    ('Brighton', 'Northampton'): 0.3,\n",
    "    ('Brighton', 'C1'): 2.0,\n",
    "    ('Newcastle', 'C2'): 1.5,\n",
    "    ('Newcastle', 'C3'): 0.5,\n",
    "    ('Newcastle', 'C5'): 1.5,\n",
    "    ('Newcastle', 'C6'): 1.0,\n",
    "    ('Birmingham', 'C1'): 1.0,\n",
    "    ('Birmingham', 'C2'): 0.5,\n",
    "    ('Birmingham', 'C3'): 0.5,\n",
    "    ('Birmingham', 'C4'): 1.0,\n",
    "    ('Birmingham', 'C5'): 0.5,\n",
    "    ('London', 'C2'): 1.5,\n",
    "    ('London', 'C3'): 2.0,\n",
    "    ('London', 'C5'): 0.5,\n",
    "    ('London', 'C6'): 1.5,\n",
    "    ('Exeter', 'C3'): 0.2,\n",
    "    ('Exeter', 'C4'): 1.5,\n",
    "    ('Exeter', 'C5'): 0.5,\n",
    "    ('Exeter', 'C6'): 1.5,\n",
    "    ('Bristol', 'C1'): 1.2,\n",
    "    ('Bristol', 'C2'): 0.6,\n",
    "    ('Bristol', 'C3'): 0.5,\n",
    "    ('Bristol', 'C5'): 0.3,\n",
    "    ('Bristol', 'C6'): 0.8,\n",
    "    ('Northampton', 'C2'): 0.4,\n",
    "    ('Northampton', 'C4'): 0.5,\n",
    "    ('Northampton', 'C5'): 0.6,\n",
    "    ('Northampton', 'C6'): 0.9\n",
    "})"
   ]
  },
  {
   "cell_type": "markdown",
   "metadata": {},
   "source": [
    "## Creating a new model"
   ]
  },
  {
   "cell_type": "code",
   "execution_count": 94,
   "metadata": {},
   "outputs": [],
   "source": [
    "model1=gp.Model('Network Optimization Advanced')\n",
    "depots1=thpt1.keys()\n",
    "flow1=model1.addVars(arcs1,obj=cost,name='flow1')\n",
    "open=model1.addVars(depots1,obj=cost,vtype=GRB.BINARY,name='open')\n",
    "expand=model1.addVar(obj=3000,vtype=GRB.BINARY,name='expand')\n",
    "open['Birmingham'].lb=1 # Resticting open_Birmingham\n",
    "open['London'].lb=1\n"
   ]
  },
  {
   "cell_type": "code",
   "execution_count": 95,
   "metadata": {},
   "outputs": [],
   "source": [
    "# Factory Constraints\n",
    "\n",
    "factories= supply.keys()\n",
    "factory1_flow = model1.addConstrs((gp.quicksum(flow1.select(factory, '*')) <= supply[factory]\n",
    "                                 for factory in factories), name=\"factory1\")"
   ]
  },
  {
   "cell_type": "code",
   "execution_count": 97,
   "metadata": {},
   "outputs": [],
   "source": [
    "# Customer Constraints\n",
    "\n",
    "customers = demand.keys()\n",
    "customer1_flow = model1.addConstrs((gp.quicksum(flow1.select('*', customer)) == demand[customer]\n",
    "                                  for customer in customers), name=\"customer1\")"
   ]
  },
  {
   "cell_type": "code",
   "execution_count": 99,
   "metadata": {},
   "outputs": [],
   "source": [
    "#Depot flow conservation\n",
    "\n",
    "depot1_flow = model1.addConstrs((gp.quicksum(flow1.select(depot, '*')) == gp.quicksum(flow1.select('*', depot))\n",
    "                               for depot in depots1), name=\"depot1\")"
   ]
  },
  {
   "cell_type": "code",
   "execution_count": 100,
   "metadata": {},
   "outputs": [],
   "source": [
    "# Depot throughput\n",
    "\n",
    "# Throughput for depots other than Birmingham \n",
    "\n",
    "all_but_birmingham = list(set(depots1) - set(['Birmingham']))\n",
    "\n",
    "depot1_capacity = model1.addConstrs((gp.quicksum(flow1.select(depot, '*')) <= thpt1[depot]*open[depot]\n",
    "                                   for depot in all_but_birmingham), name=\"depot_capacity1\")"
   ]
  },
  {
   "cell_type": "code",
   "execution_count": 101,
   "metadata": {},
   "outputs": [],
   "source": [
    "# Throughput capacity for Birmingham \n",
    "\n",
    "birmingham_capacity = model1.addConstr(gp.quicksum(flow1.select('*', 'Birmingham')) <= thpt1['Birmingham'] +\n",
    "                                      20000*expand, name=\"birmingham_capacity1\")"
   ]
  },
  {
   "cell_type": "code",
   "execution_count": 102,
   "metadata": {},
   "outputs": [],
   "source": [
    "# Depot count\n",
    "\n",
    "depot1_count = model1.addConstr(open.sum() <= 4)"
   ]
  },
  {
   "cell_type": "code",
   "execution_count": 103,
   "metadata": {},
   "outputs": [
    {
     "name": "stdout",
     "output_type": "stream",
     "text": [
      "Gurobi Optimizer version 9.0.2 build v9.0.2rc0 (win64)\n",
      "Optimize a model with 27 rows, 49 columns and 150 nonzeros\n",
      "Model fingerprint: 0xcfc7cc76\n",
      "Variable types: 42 continuous, 7 integer (7 binary)\n",
      "Coefficient statistics:\n",
      "  Matrix range     [1e+00, 9e+04]\n",
      "  Objective range  [2e-01, 3e+03]\n",
      "  Bounds range     [1e+00, 1e+00]\n",
      "  RHS range        [4e+00, 2e+05]\n",
      "Presolve removed 6 rows and 2 columns\n",
      "Presolve time: 0.01s\n",
      "Presolved: 21 rows, 47 columns, 113 nonzeros\n",
      "Variable types: 42 continuous, 5 integer (5 binary)\n",
      "\n",
      "Root relaxation: objective 1.770000e+05, 26 iterations, 0.00 seconds\n",
      "\n",
      "    Nodes    |    Current Node    |     Objective Bounds      |     Work\n",
      " Expl Unexpl |  Obj  Depth IntInf | Incumbent    BestBd   Gap | It/Node Time\n",
      "\n",
      "*    0     0               0    177000.00000 177000.000  0.00%     -    0s\n",
      "\n",
      "Explored 0 nodes (26 simplex iterations) in 0.04 seconds\n",
      "Thread count was 8 (of 8 available processors)\n",
      "\n",
      "Solution count 1: 177000 \n",
      "\n",
      "Optimal solution found (tolerance 1.00e-04)\n",
      "Best objective 1.770000000000e+05, best bound 1.770000000000e+05, gap 0.0000%\n"
     ]
    }
   ],
   "source": [
    "model1.optimize()"
   ]
  },
  {
   "cell_type": "code",
   "execution_count": 105,
   "metadata": {},
   "outputs": [
    {
     "name": "stdout",
     "output_type": "stream",
     "text": [
      "List of open depots: ['Birmingham', 'London', 'Bristol', 'Northampton']\n",
      "Expansion of Birmingham needed\n"
     ]
    }
   ],
   "source": [
    "print('List of open depots:', [d for d in depots1 if open[d].x > 0.5])\n",
    "if expand.x > 0.5:\n",
    "    print('Expansion of Birmingham needed')"
   ]
  },
  {
   "cell_type": "code",
   "execution_count": 106,
   "metadata": {},
   "outputs": [
    {
     "data": {
      "text/html": [
       "<div>\n",
       "<style scoped>\n",
       "    .dataframe tbody tr th:only-of-type {\n",
       "        vertical-align: middle;\n",
       "    }\n",
       "\n",
       "    .dataframe tbody tr th {\n",
       "        vertical-align: top;\n",
       "    }\n",
       "\n",
       "    .dataframe thead th {\n",
       "        text-align: right;\n",
       "    }\n",
       "</style>\n",
       "<table border=\"1\" class=\"dataframe\">\n",
       "  <thead>\n",
       "    <tr style=\"text-align: right;\">\n",
       "      <th></th>\n",
       "      <th>From</th>\n",
       "      <th>To</th>\n",
       "      <th>Flow</th>\n",
       "    </tr>\n",
       "  </thead>\n",
       "  <tbody>\n",
       "    <tr>\n",
       "      <th></th>\n",
       "      <td>Liverpool</td>\n",
       "      <td>C1</td>\n",
       "      <td>50000.0</td>\n",
       "    </tr>\n",
       "    <tr>\n",
       "      <th></th>\n",
       "      <td>Liverpool</td>\n",
       "      <td>C6</td>\n",
       "      <td>20000.0</td>\n",
       "    </tr>\n",
       "    <tr>\n",
       "      <th></th>\n",
       "      <td>Brighton</td>\n",
       "      <td>Birmingham</td>\n",
       "      <td>80000.0</td>\n",
       "    </tr>\n",
       "    <tr>\n",
       "      <th></th>\n",
       "      <td>Brighton</td>\n",
       "      <td>London</td>\n",
       "      <td>25000.0</td>\n",
       "    </tr>\n",
       "    <tr>\n",
       "      <th></th>\n",
       "      <td>Brighton</td>\n",
       "      <td>Bristol</td>\n",
       "      <td>40000.0</td>\n",
       "    </tr>\n",
       "    <tr>\n",
       "      <th></th>\n",
       "      <td>Brighton</td>\n",
       "      <td>Northampton</td>\n",
       "      <td>20000.0</td>\n",
       "    </tr>\n",
       "    <tr>\n",
       "      <th></th>\n",
       "      <td>Birmingham</td>\n",
       "      <td>C2</td>\n",
       "      <td>10000.0</td>\n",
       "    </tr>\n",
       "    <tr>\n",
       "      <th></th>\n",
       "      <td>Birmingham</td>\n",
       "      <td>C3</td>\n",
       "      <td>40000.0</td>\n",
       "    </tr>\n",
       "    <tr>\n",
       "      <th></th>\n",
       "      <td>Birmingham</td>\n",
       "      <td>C4</td>\n",
       "      <td>30000.0</td>\n",
       "    </tr>\n",
       "    <tr>\n",
       "      <th></th>\n",
       "      <td>London</td>\n",
       "      <td>C5</td>\n",
       "      <td>25000.0</td>\n",
       "    </tr>\n",
       "    <tr>\n",
       "      <th></th>\n",
       "      <td>Bristol</td>\n",
       "      <td>C2</td>\n",
       "      <td>5000.0</td>\n",
       "    </tr>\n",
       "    <tr>\n",
       "      <th></th>\n",
       "      <td>Bristol</td>\n",
       "      <td>C5</td>\n",
       "      <td>35000.0</td>\n",
       "    </tr>\n",
       "    <tr>\n",
       "      <th></th>\n",
       "      <td>Northampton</td>\n",
       "      <td>C4</td>\n",
       "      <td>20000.0</td>\n",
       "    </tr>\n",
       "  </tbody>\n",
       "</table>\n",
       "</div>"
      ],
      "text/plain": [
       "         From           To     Flow\n",
       "    Liverpool           C1  50000.0\n",
       "    Liverpool           C6  20000.0\n",
       "     Brighton   Birmingham  80000.0\n",
       "     Brighton       London  25000.0\n",
       "     Brighton      Bristol  40000.0\n",
       "     Brighton  Northampton  20000.0\n",
       "   Birmingham           C2  10000.0\n",
       "   Birmingham           C3  40000.0\n",
       "   Birmingham           C4  30000.0\n",
       "       London           C5  25000.0\n",
       "      Bristol           C2   5000.0\n",
       "      Bristol           C5  35000.0\n",
       "  Northampton           C4  20000.0"
      ]
     },
     "execution_count": 106,
     "metadata": {},
     "output_type": "execute_result"
    }
   ],
   "source": [
    "network_flow1 = pd.DataFrame(columns=[\"From\", \"To\", \"Flow\"])\n",
    "for arc in arcs1:\n",
    "    if flow1[arc].x > 1e-6:\n",
    "        network_flow1 = network_flow1.append({\"From\": arc[0], \"To\": arc[1], \"Flow\": flow1[arc].x}, ignore_index=True)  \n",
    "network_flow1.index=[''] * len(network_flow1)\n",
    "network_flow1"
   ]
  },
  {
   "cell_type": "code",
   "execution_count": null,
   "metadata": {},
   "outputs": [],
   "source": []
  }
 ],
 "metadata": {
  "kernelspec": {
   "display_name": "Python 3",
   "language": "python",
   "name": "python3"
  },
  "language_info": {
   "codemirror_mode": {
    "name": "ipython",
    "version": 3
   },
   "file_extension": ".py",
   "mimetype": "text/x-python",
   "name": "python",
   "nbconvert_exporter": "python",
   "pygments_lexer": "ipython3",
   "version": "3.7.0"
  }
 },
 "nbformat": 4,
 "nbformat_minor": 2
}
