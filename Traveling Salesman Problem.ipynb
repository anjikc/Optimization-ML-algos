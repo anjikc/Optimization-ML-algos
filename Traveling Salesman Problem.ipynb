{
 "cells": [
  {
   "cell_type": "markdown",
   "metadata": {},
   "source": [
    "# Traveling Salesman Problem "
   ]
  },
  {
   "cell_type": "markdown",
   "metadata": {},
   "source": [
    "## Objective is to model the TSP as a Mixed Integer Problem model and use lazy constraints to identify solutions that are infeasible"
   ]
  },
  {
   "cell_type": "markdown",
   "metadata": {},
   "source": [
    "A TSP setting can be as follows: for a given set of cities and the distances between each pair of them, the need is to find the shortest possible route that goes to each city once and returns to the origin city.\n",
    "\n",
    "Here Euclidean distances are used, but the TSP model formulation is valid independent of the way in which the individual distances are determined,"
   ]
  },
  {
   "cell_type": "markdown",
   "metadata": {},
   "source": [
    "Model Formulation "
   ]
  },
  {
   "cell_type": "markdown",
   "metadata": {},
   "source": [
    "### Sets and Indices "
   ]
  },
  {
   "cell_type": "markdown",
   "metadata": {},
   "source": [
    "$i, j \\in Capitals $: represents indices and set of capital cities.\n",
    "\n",
    "$\\text{Pairings}= \\{(i,j) \\in Capitals \\times Capitals \\}$: Set of allowed pairings\n",
    "\n",
    "$S \\subset Capitals$: A subset of the set capital cities.\n",
    "\n",
    "$G = (Capitals, Pairings)$: A graph where the set $Capitals$ defines the set of nodes and the set $Pairings$ defines the set of edges. \n"
   ]
  },
  {
   "cell_type": "markdown",
   "metadata": {},
   "source": [
    "### Parameters "
   ]
  },
  {
   "cell_type": "markdown",
   "metadata": {},
   "source": [
    "\n",
    "$d_{i, j} \\in \\mathbb{R}^+$: Distance from capital city $i$ to capital city $j$, for all $(i, j) \\in Pairings$. \n",
    "\n",
    "The distance from capital city $i$ to capital city $j$ is assumed to be same as the distance from capital city $j$ to capital city $i$ thereby making $d_{i, j} = d_{j, i}$. For this reason, this TSP is a special case of **symmetric Traveling Salesman Problem.**"
   ]
  },
  {
   "cell_type": "markdown",
   "metadata": {},
   "source": [
    "### Decision Variables "
   ]
  },
  {
   "cell_type": "markdown",
   "metadata": {},
   "source": [
    "$x_{i, j} \\in \\{0, 1\\}$: This variable is equal to 1, if there is a travel step between city $i$ and city $j$. Otherwise, the decision variable is equal to zero."
   ]
  },
  {
   "cell_type": "markdown",
   "metadata": {},
   "source": [
    "### Objective Function\n",
    "- **Shortest Route**. Minimize the total distance of the whole route. A route is a sequence of capital cities such that the salesperson visits each city only once and returns to the starting capital city."
   ]
  },
  {
   "cell_type": "markdown",
   "metadata": {},
   "source": [
    "\\begin{equation}\n",
    "\\text{Min} \\quad Z = \\sum_{(i,j) \\in \\text{Pairings}}d_{i,j} \\cdot x_{i,j}\n",
    "\\tag{0}\n",
    "\\end{equation}"
   ]
  },
  {
   "cell_type": "markdown",
   "metadata": {},
   "source": [
    "### Constraints "
   ]
  },
  {
   "cell_type": "markdown",
   "metadata": {},
   "source": [
    "- **Symmetry Constraints**. For each edge $(i,j)$,it is important to ensure that the city capitals $i$ and $j$ are connected, if the former is visited immediately before or after visiting the latter.\n",
    "\n",
    "\\begin{equation}\n",
    "x_{i, j} = x_{j, i} \\quad \\forall (i, j) \\in Pairings\n",
    "\\tag{1}\n",
    "\\end{equation}"
   ]
  },
  {
   "cell_type": "markdown",
   "metadata": {},
   "source": [
    "- **Entering and leaving a capital city**. For each capital city $i$,it is critical to ensure that this city is connected to two other cities. \n",
    "\n",
    "\\begin{equation}\n",
    "\\sum_{(i,j) \\in \\text{Pairings}}x_{i,j} = 2 \\quad \\forall  i \\in Capitals\n",
    "\\tag{2}\n",
    "\\end{equation}"
   ]
  },
  {
   "cell_type": "markdown",
   "metadata": {},
   "source": [
    "- **Subtour elimination**. These constraints ensure that for any subset of cities $S$ of the set of $Capitals$, there is no cycle. That is, there is no route that visits all the cities in the subset and returns to the origin city.\n",
    "\n",
    "\\begin{equation}\n",
    "\\sum_{(i \\neq j) \\in S}x_{i,j} \\leq |S|-1 \\quad \\forall  S \\subset  Capitals\n",
    "\\tag{3}\n",
    "\\end{equation}\n"
   ]
  },
  {
   "cell_type": "markdown",
   "metadata": {},
   "source": [
    "- **Note**. In general, if the number of cities of the TSP is $n$, then the possible number of routes is n\\!.\n",
    "Since there are an exponential number of constraints ($2^{n} - 2$) to eliminate cycles, we use lazy constraints to dynamically eliminate those cycles."
   ]
  },
  {
   "cell_type": "markdown",
   "metadata": {},
   "source": [
    "#### Implementing using Python "
   ]
  },
  {
   "cell_type": "markdown",
   "metadata": {},
   "source": [
    "The following libraries were imported:\n",
    "* math : for mathematical functions\n",
    "* itertools: for implementation of iterating blocks \n",
    "* folium: for creation of maps \n",
    "* gurobipy: Library to implement Grobi algorithms "
   ]
  },
  {
   "cell_type": "code",
   "execution_count": 21,
   "metadata": {},
   "outputs": [],
   "source": [
    "import json\n",
    "# Reading capital names and coordinates of those capitals from the json file capitals.json\n",
    "capitals_json=json.load(open('capitals.json'))\n",
    "capitals=[]\n",
    "coordinates={}\n",
    "for state in capitals_json:\n",
    "    if state not in ['AK','HI']:\n",
    "        capital = capitals_json[state]['capital']\n",
    "        capitals.append(capital)\n",
    "        coordinates[capital]=(float(capitals_json[state]['lat']),float(capitals_json[state]['long']))"
   ]
  },
  {
   "cell_type": "markdown",
   "metadata": {},
   "source": [
    "### Preprocessing "
   ]
  },
  {
   "cell_type": "code",
   "execution_count": 22,
   "metadata": {},
   "outputs": [],
   "source": [
    "import math\n",
    "from itertools import combinations,product\n",
    "## Computing pairwise distance. Note we are directly importing the methods of need so that we do not have to do itertolls.product() \n",
    "def distance (city1,city2):\n",
    "    c1=coordinates[city1]\n",
    "    c2=coordinates[city2]\n",
    "    diff=(c1[0]-c2[0],c1[1]-c2[1])\n",
    "    return math.sqrt(diff[0]*diff[0]+diff[1]*diff[1])\n",
    "\n",
    "dist={(c1,c2):distance(c1,c2)for c1,c2 in product (capitals,capitals) if c1!=c2}\n"
   ]
  },
  {
   "cell_type": "markdown",
   "metadata": {},
   "source": [
    "## The next function deals with lazy constraints so as to eliminate sub-tours\n"
   ]
  },
  {
   "cell_type": "code",
   "execution_count": 17,
   "metadata": {},
   "outputs": [],
   "source": [
    "## Callback - use lazy constraints to eliminate sub-tours \n",
    "def subtourelimination(model, where):\n",
    "    if where == GRB.Callback.MIPSOL:\n",
    "        # make a list of edges selected in the solution\n",
    "        vals = model.cbGetSolution(model._vars)\n",
    "        selected = gp.tuplelist((i, j) for i, j in model._vars.keys()\n",
    "                             if vals[i, j] > 0.5)\n",
    "        # finding the shortest cycle in the selected edge list\n",
    "        tour = subtour(selected)\n",
    "        if len(tour) < len(capitals):\n",
    "            # add subtour elimination constr. for every pair of cities in subtour\n",
    "            model.cbLazy(gp.quicksum(model._vars[i, j] for i, j in combinations(tour, 2))\n",
    "                         <= len(tour)-1)"
   ]
  },
  {
   "cell_type": "markdown",
   "metadata": {},
   "source": [
    "### Finding the shortest route\n"
   ]
  },
  {
   "cell_type": "code",
   "execution_count": 23,
   "metadata": {},
   "outputs": [],
   "source": [
    "# Given a tuplelist of edges, find the shortest subtour\n",
    "\n",
    "def subtour(edges):\n",
    "    unvisited = capitals[:]\n",
    "    cycle = capitals[:] # Dummy - guaranteed to be replaced\n",
    "    while unvisited:  # true if list is non-empty\n",
    "        thiscycle = []\n",
    "        neighbors = unvisited\n",
    "        while neighbors:\n",
    "            current = neighbors[0]\n",
    "            thiscycle.append(current)\n",
    "            unvisited.remove(current)\n",
    "            neighbors = [j for i, j in edges.select(current, '*')\n",
    "                         if j in unvisited]\n",
    "        if len(thiscycle) <= len(cycle):\n",
    "            cycle = thiscycle # New shortest subtour\n",
    "    return cycle"
   ]
  },
  {
   "cell_type": "markdown",
   "metadata": {},
   "source": [
    "### Deploying the model"
   ]
  },
  {
   "cell_type": "code",
   "execution_count": 24,
   "metadata": {},
   "outputs": [
    {
     "name": "stdout",
     "output_type": "stream",
     "text": [
      "Changed value of parameter lazyConstraints to 1\n",
      "   Prev: 0  Min: 0  Max: 1  Default: 0\n",
      "Gurobi Optimizer version 9.0.2 build v9.0.2rc0 (win64)\n",
      "Optimize a model with 2304 rows, 2256 columns and 6768 nonzeros\n",
      "Model fingerprint: 0x029d7617\n",
      "Variable types: 0 continuous, 2256 integer (2256 binary)\n",
      "Coefficient statistics:\n",
      "  Matrix range     [1e+00, 1e+00]\n",
      "  Objective range  [6e-01, 5e+01]\n",
      "  Bounds range     [1e+00, 1e+00]\n",
      "  RHS range        [2e+00, 2e+00]\n",
      "Presolve removed 2256 rows and 1128 columns\n",
      "Presolve time: 0.01s\n",
      "Presolved: 48 rows, 1128 columns, 2256 nonzeros\n",
      "Variable types: 0 continuous, 1128 integer (1128 binary)\n",
      "\n",
      "Root relaxation: objective 3.223715e+02, 72 iterations, 0.00 seconds\n",
      "\n",
      "    Nodes    |    Current Node    |     Objective Bounds      |     Work\n",
      " Expl Unexpl |  Obj  Depth IntInf | Incumbent    BestBd   Gap | It/Node Time\n",
      "\n",
      "     0     0  322.37153    0   12          -  322.37153      -     -    0s\n",
      "     0     0  326.22035    0   18          -  326.22035      -     -    0s\n",
      "     0     0  331.56424    0   16          -  331.56424      -     -    0s\n",
      "     0     0  333.00063    0   14          -  333.00063      -     -    0s\n",
      "     0     0  333.30514    0   33          -  333.30514      -     -    0s\n",
      "H    0     0                     440.4704950  333.30514  24.3%     -    0s\n",
      "H    0     0                     440.3973342  333.30514  24.3%     -    0s\n",
      "     0     2  342.89768    0    6  440.39733  342.89768  22.1%     -    0s\n",
      "*    3     0               1     350.9349184  347.49734  0.98%   8.0    0s\n",
      "*    4     0               1     350.8980740  350.89807  0.00%   8.8    0s\n",
      "\n",
      "Cutting planes:\n",
      "  Zero half: 9\n",
      "  Lazy constraints: 26\n",
      "\n",
      "Explored 5 nodes (136 simplex iterations) in 0.40 seconds\n",
      "Thread count was 8 (of 8 available processors)\n",
      "\n",
      "Solution count 4: 350.898 350.935 440.397 440.47 \n",
      "\n",
      "Optimal solution found (tolerance 1.00e-04)\n",
      "Best objective 3.508980740395e+02, best bound 3.508980740395e+02, gap 0.0000%\n",
      "\n",
      "User-callback calls 240, time in user-callback 0.14 sec\n"
     ]
    }
   ],
   "source": [
    "import gurobipy as gp\n",
    "from gurobipy import GRB\n",
    "\n",
    "\n",
    "m = gp.Model()\n",
    "\n",
    "\n",
    "vars = m.addVars(dist.keys(), obj=dist, vtype=GRB.BINARY, name='e')\n",
    "for i, j in vars.keys():\n",
    "    m.addConstr(vars[j, i] == vars[i, j])  # edge in opposite direction\n",
    "\n",
    "# Constraints: two edges incident to each city\n",
    "\n",
    "m.addConstrs(vars.sum(c, '*') == 2 for c in capitals)\n",
    "\n",
    "# Optimize the model\n",
    "\n",
    "m._vars = vars\n",
    "m.Params.lazyConstraints = 1\n",
    "m.optimize(subtourelimination)\n"
   ]
  },
  {
   "cell_type": "code",
   "execution_count": 25,
   "metadata": {},
   "outputs": [],
   "source": [
    "# Retrieve solution\n",
    "\n",
    "vals = m.getAttr('x', vars)\n",
    "selected = gp.tuplelist((i, j) for i, j in vals.keys() if vals[i, j] > 0.5)\n",
    "\n",
    "tour = subtour(selected)\n",
    "assert len(tour) == len(capitals)"
   ]
  },
  {
   "cell_type": "code",
   "execution_count": 26,
   "metadata": {},
   "outputs": [
    {
     "data": {
      "text/html": [
       "<div style=\"width:100%;\"><div style=\"position:relative;width:100%;height:0;padding-bottom:60%;\"><iframe src=\"data:text/html;charset=utf-8;base64,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\" style=\"position:absolute;width:100%;height:100%;left:0;top:0;border:none !important;\" allowfullscreen webkitallowfullscreen mozallowfullscreen></iframe></div></div>"
      ],
      "text/plain": [
       "<folium.folium.Map at 0x2e4ab3cb7f0>"
      ]
     },
     "execution_count": 26,
     "metadata": {},
     "output_type": "execute_result"
    }
   ],
   "source": [
    "# Map the solution\n",
    "\n",
    "import folium\n",
    "\n",
    "map = folium.Map(location=[40,-95], zoom_start = 4)\n",
    "\n",
    "points = []\n",
    "for city in tour:\n",
    "  points.append(coordinates[city])\n",
    "points.append(points[0])\n",
    "\n",
    "folium.PolyLine(points).add_to(map)\n",
    "\n",
    "map"
   ]
  },
  {
   "cell_type": "code",
   "execution_count": null,
   "metadata": {},
   "outputs": [],
   "source": []
  }
 ],
 "metadata": {
  "kernelspec": {
   "display_name": "Python 3",
   "language": "python",
   "name": "python3"
  },
  "language_info": {
   "codemirror_mode": {
    "name": "ipython",
    "version": 3
   },
   "file_extension": ".py",
   "mimetype": "text/x-python",
   "name": "python",
   "nbconvert_exporter": "python",
   "pygments_lexer": "ipython3",
   "version": "3.7.0"
  }
 },
 "nbformat": 4,
 "nbformat_minor": 2
}
